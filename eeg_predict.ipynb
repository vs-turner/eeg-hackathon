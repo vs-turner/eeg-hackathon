{
 "cells": [
  {
   "cell_type": "code",
   "execution_count": 17,
   "metadata": {},
   "outputs": [
    {
     "name": "stdout",
     "output_type": "stream",
     "text": [
      "Extracting EDF parameters from /Users/myco/Documents/01 work/eeg-hackathon/S001R01.edf...\n",
      "EDF file detected\n",
      "Setting channel info structure...\n",
      "Creating raw.info structure...\n",
      "Reading 0 ... 9759  =      0.000 ...    60.994 secs...\n",
      "<Info | 8 non-empty values\n",
      " bads: []\n",
      " ch_names: Fc5., Fc3., Fc1., Fcz., Fc2., Fc4., Fc6., C5.., C3.., C1.., ...\n",
      " chs: 64 EEG\n",
      " custom_ref_applied: False\n",
      " highpass: 0.0 Hz\n",
      " lowpass: 80.0 Hz\n",
      " meas_date: 2009-08-12 16:15:00 UTC\n",
      " nchan: 64\n",
      " projs: []\n",
      " sfreq: 160.0 Hz\n",
      " subject_info: 3 items (dict)\n",
      ">\n"
     ]
    }
   ],
   "source": [
    "import mne\n",
    "\n",
    "# Read the EDF file\n",
    "edf_file = './S001R01.edf'  # Replace with the actual path to your EDF file\n",
    "raw = mne.io.read_raw_edf(edf_file, preload=True)\n",
    "\n",
    "\n",
    "\n"
   ]
  },
  {
   "cell_type": "code",
   "execution_count": 16,
   "metadata": {},
   "outputs": [
    {
     "data": {
      "text/plain": [
       "array([[-1.6e-05, -5.6e-05, -5.5e-05, ...,  0.0e+00,  0.0e+00,  0.0e+00],\n",
       "       [-2.9e-05, -5.4e-05, -5.5e-05, ...,  0.0e+00,  0.0e+00,  0.0e+00],\n",
       "       [ 2.0e-06, -2.7e-05, -2.9e-05, ...,  0.0e+00,  0.0e+00,  0.0e+00],\n",
       "       ...,\n",
       "       [-2.1e-05, -1.2e-05,  2.0e-06, ...,  0.0e+00,  0.0e+00,  0.0e+00],\n",
       "       [-1.1e-05,  1.0e-06,  1.8e-05, ...,  0.0e+00,  0.0e+00,  0.0e+00],\n",
       "       [ 1.5e-05,  2.1e-05,  3.5e-05, ...,  0.0e+00,  0.0e+00,  0.0e+00]])"
      ]
     },
     "execution_count": 16,
     "metadata": {},
     "output_type": "execute_result"
    }
   ],
   "source": [
    "# Get the EEG data as a numpy array\n",
    "data, times = raw[:, :]\n",
    "\n",
    "# Create a pandas DataFrame\n",
    "import pandas as pd\n",
    "import numpy as np\n",
    "\n",
    "# Get channel names\n",
    "channel_names = raw.ch_names\n",
    "\n",
    "raw.\n",
    "\n",
    "# Create a DataFrame with channel names as columns and time points as rows\n",
    "df = pd.DataFrame(data.T, columns=channel_names)\n",
    "\n",
    "# Add a 'Time' column\n",
    "df['Time'] = times\n",
    "\n",
    "# Set 'Time' as the index\n",
    "df.set_index('Time', inplace=True)\n",
    "\n",
    "# Display the first few rows of the DataFrame\n",
    "print(df.head())\n",
    "\n",
    "# Optionally, you can save the DataFrame to a CSV file\n",
    "# df.to_csv('eeg_data.csv')\n",
    "\n",
    "# If you want to discretize the continuous values into bins, you can use pd.cut\n",
    "# For example, to create 10 bins for each channel:\n",
    "for column in df.columns:\n",
    "    df[f'{column}_discretized'] = pd.cut(df[column], bins=10, labels=False)\n",
    "\"\"\n",
    "# Display the first few rows of the discretized DataFrame\n",
    "df\n",
    "data"
   ]
  },
  {
   "cell_type": "code",
   "execution_count": null,
   "metadata": {},
   "outputs": [],
   "source": [
    "\"\"\"\n",
    "dat -> subjects x features matrix\n",
    "\n",
    "for sub in subjects:\n",
    "    open the file\n",
    "    convert to a dataframe\n",
    "    extract features!\n",
    "    dat[sub]=features\n",
    "\n",
    "do more stuff\n",
    "\n",
    "\n",
    "\n",
    "\"\"\""
   ]
  }
 ],
 "metadata": {
  "kernelspec": {
   "display_name": "base",
   "language": "python",
   "name": "python3"
  },
  "language_info": {
   "codemirror_mode": {
    "name": "ipython",
    "version": 3
   },
   "file_extension": ".py",
   "mimetype": "text/x-python",
   "name": "python",
   "nbconvert_exporter": "python",
   "pygments_lexer": "ipython3",
   "version": "3.12.2"
  }
 },
 "nbformat": 4,
 "nbformat_minor": 2
}
